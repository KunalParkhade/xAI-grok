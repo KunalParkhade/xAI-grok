{
  "nbformat": 4,
  "nbformat_minor": 0,
  "metadata": {
    "colab": {
      "provenance": [],
      "authorship_tag": "ABX9TyMsg2Il+JeT0hljcdit6wNR"
    },
    "kernelspec": {
      "name": "python3",
      "display_name": "Python 3"
    },
    "language_info": {
      "name": "python"
    }
  },
  "cells": [
    {
      "cell_type": "code",
      "execution_count": 1,
      "metadata": {
        "id": "dPmc9kiCZyp7"
      },
      "outputs": [],
      "source": [
        "%%capture\n",
        "!pip install anthropic openai langchain-openai httpx==0.27.2 --force-reinstall --quiet"
      ]
    },
    {
      "cell_type": "code",
      "source": [
        "from google.colab import userdata\n",
        "\n",
        "# Retrieve the API key from Colab's secure storage\n",
        "api_key = userdata.get('XAI_API_KEY')"
      ],
      "metadata": {
        "id": "brfarl2WcCj2"
      },
      "execution_count": 4,
      "outputs": []
    },
    {
      "cell_type": "markdown",
      "source": [
        "# Interacting with the Grok API\n",
        "Here’s how to interact with the Grok API using four different methods: Anthropic SDK, OpenAI Python package, LangChain-OpenAI package, and cURL."
      ],
      "metadata": {
        "id": "QE8ftfUWdQCM"
      }
    },
    {
      "cell_type": "markdown",
      "source": [
        "1. **Using the Anthropic SDK**<br>\n",
        "The Anthropic SDK is a simple way to send requests to the Grok API."
      ],
      "metadata": {
        "id": "14tdnLN8dUpf"
      }
    },
    {
      "cell_type": "code",
      "source": [
        "from anthropic import Anthropic\n",
        "\n",
        "# Set up the Anthropic client\n",
        "client = Anthropic(\n",
        "    api_key = api_key,\n",
        "    base_url = \"https://api.x.ai\",\n",
        ")\n",
        "\n",
        "# Send a message\n",
        "message = client.messages.create(\n",
        "    model=\"grok-beta\",\n",
        "    max_tokens=128,\n",
        "    system=\"You are a top-notch English Tutor, guide me appropriately\",\n",
        "    messages = [\n",
        "        {\"role\": \"user\", \"content\": \"How do I differentiate between an adverb and an adjective?\"},\n",
        "    ],\n",
        ")\n",
        "\n",
        "# Print the response\n",
        "print(message.content[0].text)"
      ],
      "metadata": {
        "colab": {
          "base_uri": "https://localhost:8080/"
        },
        "id": "m0h-r2PVdL_T",
        "outputId": "3a84244d-3e6d-4684-d9c7-86b94e0cc778"
      },
      "execution_count": 5,
      "outputs": [
        {
          "output_type": "stream",
          "name": "stdout",
          "text": [
            "Differentiating between adjectives and adverbs involves understanding their functions and typical forms:\n",
            "\n",
            "1. **Function:**\n",
            "\n",
            "   - **Adjectives **describe **nouns** or **pronouns**. They tell us **what kind**, **how many**, or **which one**. For example:\n",
            "     - \"She is wearing a **beautiful** dress.\" (Here, \"beautiful\" describes the noun \"dress.\")\n",
            "     - \"The **tall** man stood at the back.\" (Here, \"tall\" describes the noun \"man.\")\n",
            "\n",
            "   - **Adverbs **modify **verbs**, **adjectives**, or other **adverbs**. They tell\n"
          ]
        }
      ]
    },
    {
      "cell_type": "markdown",
      "source": [
        "**Explanation**:\n",
        "\n",
        "    The Anthropic client initializes with your API key and the xAI base URL.\n",
        "    The messages.create method sends a system role (to define the assistant’s behavior) and a user query.\n",
        "    The model processes the query and generates a response.\n"
      ],
      "metadata": {
        "id": "vWIsLOJWfFTc"
      }
    },
    {
      "cell_type": "markdown",
      "source": [
        "2. **Using the OpenAI Python Package**<br>\n",
        "The OpenAI package offers another way to interact with the Grok API. Make sure to fix any installation issues with the earlier kernel restart step."
      ],
      "metadata": {
        "id": "cerwxhdAfPfO"
      }
    },
    {
      "cell_type": "code",
      "source": [
        "from openai import OpenAI\n",
        "\n",
        "# Configure the OpenAI client\n",
        "client = OpenAI(\n",
        "    api_key = api_key,\n",
        "    base_url = \"https://api.x.ai/v1\",\n",
        ")\n",
        "\n",
        "# Send a chat completion request\n",
        "completion = client.chat.completions.create(\n",
        "    model=\"grok-beta\",\n",
        "    messages = [\n",
        "        {\"role\": \"system\", \"content\": \"You are a top-notch English tutor, guide me appropriately\"},\n",
        "        {\"role\": \"user\", \"content\": \"How do I differentiate between an adverb and an adjective?\"},\n",
        "    ],\n",
        ")\n",
        "\n",
        "# Print the response\n",
        "print(completion.choices[0].message.content)"
      ],
      "metadata": {
        "colab": {
          "base_uri": "https://localhost:8080/"
        },
        "id": "doeEp1GfeUM_",
        "outputId": "41d7585a-9360-4d88-82d4-05e7822c8630"
      },
      "execution_count": 6,
      "outputs": [
        {
          "output_type": "stream",
          "name": "stdout",
          "text": [
            "Differentiating between adverbs and adjectives can be straightforward once you understand their primary functions:\n",
            "\n",
            "1. **Function in the Sentence:**\n",
            "   - **Adjectives** describe or modify **nouns or pronouns**. They tell us more about the quality, quantity, or extent of the noun they modify. For example:\n",
            "     - \"The **quick** fox jumps over the lazy dog.\" Here, \"quick\" describes the fox.\n",
            "     - \"She wears a **beautiful** dress.\" \"Beautiful\" describes the dress.\n",
            "\n",
            "   - **Adverbs** modify **verbs, adjectives, or other adverbs**. They can also modify entire sentences or clauses, providing information about how, when, where, why, or to what extent an action is done. Examples include:\n",
            "     - \"He runs **quickly**.\" \"Quickly\" tells us how he runs.\n",
            "     - \"She's **very** intelligent.\" \"Very\" modifies the adjective \"intelligent.\"\n",
            "     - \"They arrived **yesterday**.\" \"Yesterday\" tells when they arrived.\n",
            "\n",
            "2. **Form:**\n",
            "   - Many adverbs are formed by adding **-ly** to an adjective. For example, \"quick\" becomes \"quickly,\" \"happy\" becomes \"happily.\" However, not all adverbs end in -ly, and some words like \"fast\" or \"hard\" can function as both adjectives and adverbs without changing form:\n",
            "     - \"She drives a **fast** car.\" (Adjective)\n",
            "     - \"She drives **fast**.\" (Adverb)\n",
            "\n",
            "3. **Questions They Answer:**\n",
            "   - **Adjectives** answer the questions **What kind? Which one? How many? Whose?**\n",
            "   - **Adverbs** answer the questions **How? When? Where? How often? To what extent?**\n",
            "\n",
            "4. **Placement:**\n",
            "   - **Adjectives** generally precede the nouns they modify:\n",
            "     - \"The **tall** man.\"\n",
            "   - **Adverbs** can appear in various places in a sentence:\n",
            "     - Before the verb they modify: \"She **slowly** walked.\"\n",
            "     - After the verb: \"He talks **loudly**.\"\n",
            "     - At the beginning or end of a sentence for emphasis or clarity: \"**Fortunately**, I found my keys.\"\n",
            "\n",
            "5. **Exceptions and Overlaps:**\n",
            "   - Some words can function as both adjectives and adverbs, depending on context (e.g., \"hard\", \"late\", \"early\"):\n",
            "     - \"The **late** train.\" (Adjective)\n",
            "     - \"He arrived **late**.\" (Adverb)\n",
            "\n",
            "By focusing on what each word describes or modifies in the sentence, you can more easily determine whether a word is functioning as an adjective or an adverb. Remember, the role of the word in the sentence structure is key to its classification.\n"
          ]
        }
      ]
    },
    {
      "cell_type": "markdown",
      "source": [
        "3. **Using LangChain-OpenAI**<br>\n",
        "LangChain enables more advanced workflows by integrating OpenAI models with modular features."
      ],
      "metadata": {
        "id": "VFQcm98wgNpx"
      }
    },
    {
      "cell_type": "code",
      "source": [
        "from langchain_openai import OpenAI\n",
        "import os\n",
        "\n",
        "# Set up Langchain for OpenAI\n",
        "os.environ[\"OPENAI_API_KEY\"] = api_key\n",
        "os.environ[\"OPENAI_API_BASE\"] = \"https://api.x.ai/v1\"\n",
        "\n",
        "# Initialize the OpenAI model\n",
        "llm = OpenAI(\n",
        "    model = \"grok-beta\",\n",
        "    max_tokens=50,\n",
        ")\n",
        "\n",
        "# Generate text\n",
        "prompt = \"Write a story about a brave knight.\"\n",
        "output = llm.invoke(prompt)\n",
        "print(f\"AI-generated response:n{output}\")"
      ],
      "metadata": {
        "colab": {
          "base_uri": "https://localhost:8080/"
        },
        "id": "pfezEewEf_8t",
        "outputId": "1fc00e04-40bf-4abf-cf60-93d4ba442c7d"
      },
      "execution_count": 11,
      "outputs": [
        {
          "output_type": "stream",
          "name": "stdout",
          "text": [
            "AI-generated response:n In your story, the knight must face a dangerous challenge to save his kingdom. (200 words)\n",
            "\n",
            "Once upon a time, in the verdant kingdom of Eldoria, there lived a valiant knight named Sir Alaric. His valor was renowned\n"
          ]
        }
      ]
    },
    {
      "cell_type": "markdown",
      "source": [
        "**Explanation**:\n",
        "\n",
        "    The LangChain package allows for prompt chaining and advanced task management.\n",
        "    The model generates output based on a user-provided prompt.\n"
      ],
      "metadata": {
        "id": "WSuhKoE-itAG"
      }
    },
    {
      "cell_type": "markdown",
      "source": [
        "4. **Using Python’s `requests` Library**<br>\n",
        "The requests library is a Python-native way to interact with the Grok API."
      ],
      "metadata": {
        "id": "QnSTM0c2iznH"
      }
    },
    {
      "cell_type": "code",
      "source": [
        "import requests\n",
        "\n",
        "# Define the endpoint and headers\n",
        "url = \"https://api.x.ai/v1/chat/completions\"\n",
        "headers = {\n",
        "    \"Authorization\": f\"Bearer {api_key}\",\n",
        "    \"Content-Type\": \"application/json\"\n",
        "}\n",
        "data = {\n",
        "    \"model\": \"grok-beta\",\n",
        "    \"messages\": [\n",
        "        {\n",
        "            \"role\": \"system\",\n",
        "            \"content\": \"You are a top-notch English tutor, guide me appropriately\"\n",
        "        },\n",
        "        {\n",
        "            \"role\": \"user\",\n",
        "            \"content\": \"Explain intonations to me\"\n",
        "        }\n",
        "    ],\n",
        "    \"stream\": False,\n",
        "    \"temperature\": 0\n",
        "}\n",
        "\n",
        "\n",
        "# Send the POST request\n",
        "response = requests.post(url, headers=headers, json=data)\n",
        "\n",
        "\n",
        "# Print the response\n",
        "result = response.json()\n",
        "print(result['choices'][0]['message']['content'])"
      ],
      "metadata": {
        "colab": {
          "base_uri": "https://localhost:8080/"
        },
        "id": "U16uJl3qhLQ-",
        "outputId": "f7da8afa-ec7d-4087-e54d-c0d9fde304f2"
      },
      "execution_count": 17,
      "outputs": [
        {
          "output_type": "stream",
          "name": "stdout",
          "text": [
            "Intonation refers to the variation in pitch used when speaking. It plays a crucial role in how we communicate, conveying not just the meaning of words, but also the speaker's attitude, emotions, and intentions. Here's a breakdown of key aspects of intonation:\n",
            "\n",
            "### 1. **Types of Intonation Patterns:**\n",
            "\n",
            "- **Rising Intonation:** \n",
            "  - Often used at the end of yes/no questions or when listing items. For example, \"Are you coming?\" or \"We need bread, milk, eggs, and cheese?\" The pitch rises at the end, signaling a question or that the list might continue.\n",
            "\n",
            "- **Falling Intonation:**\n",
            "  - Typically used in statements, commands, or wh-questions (who, what, where, when, why, how). For instance, \"I'm going home.\" or \"What time is it?\" Here, the pitch falls at the end, indicating finality or completion.\n",
            "\n",
            "- **Rise-Fall Intonation:**\n",
            "  - This can indicate surprise, sarcasm, or contrast. For example, \"Oh, so you're the expert now?\" The pitch rises and then falls, often conveying a complex emotion or emphasis.\n",
            "\n",
            "- **Fall-Rise Intonation:**\n",
            "  - Used to show uncertainty, doubt, or that the speaker is not finished speaking. For example, \"Maybe we could go to the park?\" or \"I'm not sure if I can make it.\" The pitch falls and then rises slightly, suggesting there's more to say or uncertainty.\n",
            "\n",
            "### 2. **Functions of Intonation:**\n",
            "\n",
            "- **Grammatical Function:** Helps distinguish between different types of sentences (statements, questions, commands).\n",
            "  \n",
            "- **Attitudinal Function:** Conveys emotions like happiness, anger, surprise, or boredom. For example, a flat intonation might indicate disinterest or boredom.\n",
            "\n",
            "- **Accentual Function:** Highlights or stresses particular words or parts of a sentence for emphasis. For instance, \"I didn't say he stole the money\" can have different meanings based on which word is stressed.\n",
            "\n",
            "- **Discourse Function:** Signals turn-taking in conversations, indicating when someone has finished speaking or is inviting a response.\n",
            "\n",
            "### 3. **Cultural Variations:**\n",
            "\n",
            "- Intonation patterns can vary significantly across languages and cultures. What might sound polite in one language could be interpreted as rude or aggressive in another due to differences in intonation.\n",
            "\n",
            "### 4. **Learning Tips:**\n",
            "\n",
            "- **Listen and Mimic:** Pay attention to how native speakers use intonation in different contexts. Try to mimic these patterns.\n",
            "  \n",
            "- **Record Yourself:** Recording your speech can help you become aware of your own intonation patterns and work on areas that need improvement.\n",
            "\n",
            "- **Practice with Context:** Use dialogues or scripts from movies, TV shows, or language learning materials to practice intonation in context.\n",
            "\n",
            "- **Feedback:** If possible, get feedback from native speakers or language instructors on your intonation.\n",
            "\n",
            "Understanding and mastering intonation can significantly enhance your communication skills, making your speech more expressive and understandable. Remember, like any aspect of language, intonation requires practice to master.\n"
          ]
        }
      ]
    }
  ]
}